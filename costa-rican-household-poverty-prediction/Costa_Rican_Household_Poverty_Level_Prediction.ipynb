{
  "nbformat": 4,
  "nbformat_minor": 0,
  "metadata": {
    "colab": {
      "name": "Costa Rican Household Poverty Level Prediction.ipynb",
      "version": "0.3.2",
      "provenance": [],
      "include_colab_link": true
    },
    "kernelspec": {
      "name": "python3",
      "display_name": "Python 3"
    }
  },
  "cells": [
    {
      "cell_type": "markdown",
      "metadata": {
        "id": "view-in-github",
        "colab_type": "text"
      },
      "source": [
        "[View in Colaboratory](https://colab.research.google.com/github/truonghai001/kaggle-competition/blob/master/costa-rican-household-poverty-prediction/Costa_Rican_Household_Poverty_Level_Prediction.ipynb)"
      ]
    },
    {
      "metadata": {
        "id": "DQK55ZFrC67-",
        "colab_type": "text"
      },
      "cell_type": "markdown",
      "source": [
        "### Costa Rican Household Poverty Level Prediction\n",
        "\n",
        "Link: https://www.kaggle.com/willkoehrsen/a-complete-introduction-and-walkthrough\n"
      ]
    },
    {
      "metadata": {
        "id": "BtEV5lBBwiep",
        "colab_type": "code",
        "colab": {}
      },
      "cell_type": "code",
      "source": [
        ""
      ],
      "execution_count": 0,
      "outputs": []
    }
  ]
}